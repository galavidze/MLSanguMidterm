{
 "cells": [
  {
   "cell_type": "code",
   "execution_count": 3,
   "id": "2b3b2497",
   "metadata": {},
   "outputs": [
    {
     "data": {
      "text/plain": [
       "'\\nLashagiorgi Alavidze\\n'"
      ]
     },
     "execution_count": 3,
     "metadata": {},
     "output_type": "execute_result"
    }
   ],
   "source": [
    "'''\n",
    "Lashagiorgi Alavidze\n",
    "'''"
   ]
  },
  {
   "cell_type": "code",
   "execution_count": 23,
   "id": "eefa4c26",
   "metadata": {},
   "outputs": [
    {
     "name": "stdout",
     "output_type": "stream",
     "text": [
      "The email is predicted not to be spam.\n",
      "Feature Importance:\n",
      "Number of Words               -0.065733\n",
      "Number of Links                0.994697\n",
      "Number of Capitalized Words   -0.532833\n",
      "Number of Spam Words           1.191402\n",
      "dtype: float64\n"
     ]
    }
   ],
   "source": [
    "import pandas as pd\n",
    "from sklearn.linear_model import LogisticRegression\n",
    "from sklearn.feature_extraction.text import CountVectorizer\n",
    "\n",
    "# Load the data\n",
    "data = pd.read_csv('spam-data.csv')\n",
    "\n",
    "# Split data into features (X) and target labels (y)\n",
    "X = data.drop(columns=['Class'])\n",
    "y = data['Class']\n",
    "\n",
    "# Build and train logistic regression model\n",
    "model = LogisticRegression()\n",
    "model.fit(X, y)\n",
    "\n",
    "# Load email content from emails.txt\n",
    "with open('emails.txt', 'r') as file:\n",
    "    email_content = file.read()\n",
    "\n",
    "# Extract email features using CountVectorizer\n",
    "vectorizer = CountVectorizer(vocabulary=X.columns)\n",
    "email_features = vectorizer.fit_transform([email_content])\n",
    "\n",
    "# Check email for spam\n",
    "prediction = model.predict(email_features)\n",
    "if prediction[0] == 1:\n",
    "    print(\"The email is predicted to be spam.\")\n",
    "else:\n",
    "    print(\"The email is predicted not to be spam.\")\n",
    "\n",
    "# Analyze feature importance\n",
    "feature_importance = pd.Series(model.coef_[0], index=X.columns)\n",
    "print(\"Feature Importance:\")\n",
    "print(feature_importance)\n"
   ]
  },
  {
   "cell_type": "code",
   "execution_count": null,
   "id": "9a2638de",
   "metadata": {},
   "outputs": [],
   "source": []
  }
 ],
 "metadata": {
  "kernelspec": {
   "display_name": "Python 3",
   "language": "python",
   "name": "python3"
  },
  "language_info": {
   "codemirror_mode": {
    "name": "ipython",
    "version": 3
   },
   "file_extension": ".py",
   "mimetype": "text/x-python",
   "name": "python",
   "nbconvert_exporter": "python",
   "pygments_lexer": "ipython3",
   "version": "3.8.8"
  }
 },
 "nbformat": 4,
 "nbformat_minor": 5
}
