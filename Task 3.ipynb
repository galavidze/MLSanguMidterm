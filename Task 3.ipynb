{
 "cells": [
  {
   "cell_type": "code",
   "execution_count": 2,
   "id": "80205378",
   "metadata": {},
   "outputs": [
    {
     "data": {
      "text/plain": [
       "'\\nLashagiorgi Alavidze\\n\\nOverall - the output is 0, meaning that the model predicted it not to be spam.\\n'"
      ]
     },
     "execution_count": 2,
     "metadata": {},
     "output_type": "execute_result"
    }
   ],
   "source": [
    "'''\n",
    "Lashagiorgi Alavidze\n",
    "\n",
    "Overall - the output is 0, meaning that the model predicted it not to be spam.\n",
    "'''"
   ]
  },
  {
   "cell_type": "code",
   "execution_count": 64,
   "id": "d18f2cdf",
   "metadata": {},
   "outputs": [
    {
     "name": "stdout",
     "output_type": "stream",
     "text": [
      "/Users/giorgia/Downloads\n"
     ]
    }
   ],
   "source": [
    "cd ~/Downloads"
   ]
  },
  {
   "cell_type": "code",
   "execution_count": 66,
   "id": "5a44053d",
   "metadata": {},
   "outputs": [
    {
     "name": "stdout",
     "output_type": "stream",
     "text": [
      "The first email is predicted not to be spam.\n"
     ]
    }
   ],
   "source": [
    "import pandas as pd\n",
    "from sklearn.linear_model import LogisticRegression\n",
    "from sklearn.feature_extraction.text import CountVectorizer\n",
    "\n",
    "# Load the data\n",
    "data = pd.read_csv('spam-data.csv')\n",
    "\n",
    "# Split data into features (X) and target labels (y)\n",
    "X = data.drop(columns=['Class'])\n",
    "y = data['Class']\n",
    "\n",
    "# Build and train logistic regression model\n",
    "model = LogisticRegression()\n",
    "model.fit(X, y)\n",
    "\n",
    "# Load email content from emails.txt\n",
    "with open('emails.txt', 'r') as file:\n",
    "    email_content = file.readline()\n",
    "\n",
    "# Extract email features using CountVectorizer\n",
    "vectorizer = CountVectorizer(vocabulary=X.columns)\n",
    "email_features = vectorizer.fit_transform([email_content])\n",
    "\n",
    "# Check email for spam\n",
    "prediction = model.predict(email_features)\n",
    "if prediction[0] == 1:\n",
    "    print(\"The first email is predicted to be spam.\")\n",
    "else:\n",
    "    print(\"The first email is predicted not to be spam.\")\n"
   ]
  }
 ],
 "metadata": {
  "kernelspec": {
   "display_name": "Python 3",
   "language": "python",
   "name": "python3"
  },
  "language_info": {
   "codemirror_mode": {
    "name": "ipython",
    "version": 3
   },
   "file_extension": ".py",
   "mimetype": "text/x-python",
   "name": "python",
   "nbconvert_exporter": "python",
   "pygments_lexer": "ipython3",
   "version": "3.8.8"
  }
 },
 "nbformat": 4,
 "nbformat_minor": 5
}
